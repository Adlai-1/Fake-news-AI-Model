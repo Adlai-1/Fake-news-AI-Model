{
 "cells": [
  {
   "cell_type": "code",
   "execution_count": 1,
   "metadata": {},
   "outputs": [],
   "source": [
    "import numpy as num\n",
    "import pandas as pd\n",
    "import os\n",
    "import nltk as np\n",
    "from nltk.corpus import stopwords\n",
    "from nltk.stem import WordNetLemmatizer\n",
    "import re\n",
    "from nltk.tokenize import word_tokenize \n",
    "from nltk.stem.porter import PorterStemmer\n",
    "from nltk.stem import WordNetLemmatizer\n",
    "from sklearn.model_selection import train_test_split\n",
    "from sklearn.utils import shuffle\n",
    "\n",
    "\n",
    "#Libraries that check the accuracy of the model over test set\n",
    "from sklearn.metrics import confusion_matrix, accuracy_score, precision_score, recall_score"
   ]
  },
  {
   "cell_type": "markdown",
   "metadata": {},
   "source": [
    "Code to Determine the Proper directory to your data"
   ]
  },
  {
   "cell_type": "code",
   "execution_count": 2,
   "metadata": {},
   "outputs": [
    {
     "name": "stdout",
     "output_type": "stream",
     "text": [
      "./Leet1.py\n",
      "./Model.h5\n",
      "./Model.ipynb\n",
      "./Fake\\Fake.csv\n",
      "./True\\True.csv\n"
     ]
    }
   ],
   "source": [
    "for dirname, _, filenames in os.walk('./'):\n",
    "    for filename in filenames:\n",
    "        print(os.path.join(dirname, filename))"
   ]
  },
  {
   "cell_type": "markdown",
   "metadata": {},
   "source": [
    "Opening Data using Panda"
   ]
  },
  {
   "cell_type": "code",
   "execution_count": 3,
   "metadata": {},
   "outputs": [],
   "source": [
    "Fake_data = pd.read_csv('./Fake/Fake.csv')\n",
    "True_data = pd.read_csv('./True/True.csv')"
   ]
  },
  {
   "cell_type": "markdown",
   "metadata": {},
   "source": [
    "Data Clean-up....Begining"
   ]
  },
  {
   "cell_type": "code",
   "execution_count": 5,
   "metadata": {},
   "outputs": [
    {
     "data": {
      "text/html": [
       "<div>\n",
       "<style scoped>\n",
       "    .dataframe tbody tr th:only-of-type {\n",
       "        vertical-align: middle;\n",
       "    }\n",
       "\n",
       "    .dataframe tbody tr th {\n",
       "        vertical-align: top;\n",
       "    }\n",
       "\n",
       "    .dataframe thead th {\n",
       "        text-align: right;\n",
       "    }\n",
       "</style>\n",
       "<table border=\"1\" class=\"dataframe\">\n",
       "  <thead>\n",
       "    <tr style=\"text-align: right;\">\n",
       "      <th></th>\n",
       "      <th>title</th>\n",
       "      <th>text</th>\n",
       "      <th>subject</th>\n",
       "      <th>date</th>\n",
       "    </tr>\n",
       "  </thead>\n",
       "  <tbody>\n",
       "    <tr>\n",
       "      <th>0</th>\n",
       "      <td>Donald Trump Sends Out Embarrassing New Year’...</td>\n",
       "      <td>Donald Trump just couldn t wish all Americans ...</td>\n",
       "      <td>News</td>\n",
       "      <td>December 31, 2017</td>\n",
       "    </tr>\n",
       "    <tr>\n",
       "      <th>1</th>\n",
       "      <td>Drunk Bragging Trump Staffer Started Russian ...</td>\n",
       "      <td>House Intelligence Committee Chairman Devin Nu...</td>\n",
       "      <td>News</td>\n",
       "      <td>December 31, 2017</td>\n",
       "    </tr>\n",
       "  </tbody>\n",
       "</table>\n",
       "</div>"
      ],
      "text/plain": [
       "                                               title  \\\n",
       "0   Donald Trump Sends Out Embarrassing New Year’...   \n",
       "1   Drunk Bragging Trump Staffer Started Russian ...   \n",
       "\n",
       "                                                text subject  \\\n",
       "0  Donald Trump just couldn t wish all Americans ...    News   \n",
       "1  House Intelligence Committee Chairman Devin Nu...    News   \n",
       "\n",
       "                date  \n",
       "0  December 31, 2017  \n",
       "1  December 31, 2017  "
      ]
     },
     "execution_count": 5,
     "metadata": {},
     "output_type": "execute_result"
    }
   ],
   "source": [
    "Fake_data.head(2)"
   ]
  },
  {
   "cell_type": "code",
   "execution_count": 6,
   "metadata": {},
   "outputs": [],
   "source": [
    "Fake_data =Fake_data.drop(columns=[\"date\",\"subject\",\"title\"])"
   ]
  },
  {
   "cell_type": "code",
   "execution_count": 7,
   "metadata": {},
   "outputs": [],
   "source": [
    "True_data = True_data.drop(columns=[\"date\",\"subject\",\"title\"])"
   ]
  },
  {
   "cell_type": "markdown",
   "metadata": {},
   "source": [
    "Assigning Tags for easy differetiation of News types (either Fake or True) True news = 0 and Fake news = 1\n",
    "(i.e. Any value approaching 1 indicates Fake news and any Value approaching 0 indicates True news)"
   ]
  },
  {
   "cell_type": "code",
   "execution_count": 8,
   "metadata": {},
   "outputs": [],
   "source": [
    "True_data['fake'] = 0\n",
    "Fake_data['fake'] = 1"
   ]
  },
  {
   "cell_type": "code",
   "execution_count": 9,
   "metadata": {},
   "outputs": [
    {
     "data": {
      "text/html": [
       "<div>\n",
       "<style scoped>\n",
       "    .dataframe tbody tr th:only-of-type {\n",
       "        vertical-align: middle;\n",
       "    }\n",
       "\n",
       "    .dataframe tbody tr th {\n",
       "        vertical-align: top;\n",
       "    }\n",
       "\n",
       "    .dataframe thead th {\n",
       "        text-align: right;\n",
       "    }\n",
       "</style>\n",
       "<table border=\"1\" class=\"dataframe\">\n",
       "  <thead>\n",
       "    <tr style=\"text-align: right;\">\n",
       "      <th></th>\n",
       "      <th>text</th>\n",
       "      <th>fake</th>\n",
       "    </tr>\n",
       "  </thead>\n",
       "  <tbody>\n",
       "    <tr>\n",
       "      <th>0</th>\n",
       "      <td>Donald Trump just couldn t wish all Americans ...</td>\n",
       "      <td>1</td>\n",
       "    </tr>\n",
       "    <tr>\n",
       "      <th>1</th>\n",
       "      <td>House Intelligence Committee Chairman Devin Nu...</td>\n",
       "      <td>1</td>\n",
       "    </tr>\n",
       "  </tbody>\n",
       "</table>\n",
       "</div>"
      ],
      "text/plain": [
       "                                                text  fake\n",
       "0  Donald Trump just couldn t wish all Americans ...     1\n",
       "1  House Intelligence Committee Chairman Devin Nu...     1"
      ]
     },
     "execution_count": 9,
     "metadata": {},
     "output_type": "execute_result"
    }
   ],
   "source": [
    "Fake_data.head(2)"
   ]
  },
  {
   "cell_type": "code",
   "execution_count": 10,
   "metadata": {},
   "outputs": [
    {
     "data": {
      "text/html": [
       "<div>\n",
       "<style scoped>\n",
       "    .dataframe tbody tr th:only-of-type {\n",
       "        vertical-align: middle;\n",
       "    }\n",
       "\n",
       "    .dataframe tbody tr th {\n",
       "        vertical-align: top;\n",
       "    }\n",
       "\n",
       "    .dataframe thead th {\n",
       "        text-align: right;\n",
       "    }\n",
       "</style>\n",
       "<table border=\"1\" class=\"dataframe\">\n",
       "  <thead>\n",
       "    <tr style=\"text-align: right;\">\n",
       "      <th></th>\n",
       "      <th>text</th>\n",
       "      <th>fake</th>\n",
       "    </tr>\n",
       "  </thead>\n",
       "  <tbody>\n",
       "    <tr>\n",
       "      <th>0</th>\n",
       "      <td>WASHINGTON (Reuters) - The head of a conservat...</td>\n",
       "      <td>0</td>\n",
       "    </tr>\n",
       "    <tr>\n",
       "      <th>1</th>\n",
       "      <td>WASHINGTON (Reuters) - Transgender people will...</td>\n",
       "      <td>0</td>\n",
       "    </tr>\n",
       "    <tr>\n",
       "      <th>2</th>\n",
       "      <td>WASHINGTON (Reuters) - The special counsel inv...</td>\n",
       "      <td>0</td>\n",
       "    </tr>\n",
       "    <tr>\n",
       "      <th>3</th>\n",
       "      <td>WASHINGTON (Reuters) - Trump campaign adviser ...</td>\n",
       "      <td>0</td>\n",
       "    </tr>\n",
       "    <tr>\n",
       "      <th>4</th>\n",
       "      <td>SEATTLE/WASHINGTON (Reuters) - President Donal...</td>\n",
       "      <td>0</td>\n",
       "    </tr>\n",
       "  </tbody>\n",
       "</table>\n",
       "</div>"
      ],
      "text/plain": [
       "                                                text  fake\n",
       "0  WASHINGTON (Reuters) - The head of a conservat...     0\n",
       "1  WASHINGTON (Reuters) - Transgender people will...     0\n",
       "2  WASHINGTON (Reuters) - The special counsel inv...     0\n",
       "3  WASHINGTON (Reuters) - Trump campaign adviser ...     0\n",
       "4  SEATTLE/WASHINGTON (Reuters) - President Donal...     0"
      ]
     },
     "execution_count": 10,
     "metadata": {},
     "output_type": "execute_result"
    }
   ],
   "source": [
    "True_data.head()"
   ]
  },
  {
   "cell_type": "code",
   "execution_count": 11,
   "metadata": {},
   "outputs": [
    {
     "data": {
      "text/plain": [
       "(23481, 2)"
      ]
     },
     "execution_count": 11,
     "metadata": {},
     "output_type": "execute_result"
    }
   ],
   "source": [
    "Fake_data.shape"
   ]
  },
  {
   "cell_type": "code",
   "execution_count": 12,
   "metadata": {},
   "outputs": [
    {
     "data": {
      "text/plain": [
       "(21417, 2)"
      ]
     },
     "execution_count": 12,
     "metadata": {},
     "output_type": "execute_result"
    }
   ],
   "source": [
    "True_data.shape"
   ]
  },
  {
   "cell_type": "code",
   "execution_count": 13,
   "metadata": {},
   "outputs": [],
   "source": [
    "word = \"My name is David Adlai Nettey. I do Computer Science\""
   ]
  },
  {
   "cell_type": "code",
   "execution_count": 14,
   "metadata": {},
   "outputs": [],
   "source": [
    "token = np.word_tokenize(word)"
   ]
  },
  {
   "cell_type": "code",
   "execution_count": 15,
   "metadata": {},
   "outputs": [
    {
     "name": "stdout",
     "output_type": "stream",
     "text": [
      "['My', 'name', 'is', 'David', 'Adlai', 'Nettey', '.', 'I', 'do', 'Computer', 'Science']\n"
     ]
    }
   ],
   "source": [
    "print(token)"
   ]
  },
  {
   "cell_type": "code",
   "execution_count": 16,
   "metadata": {},
   "outputs": [],
   "source": [
    "trial = Fake_data['text'][1]"
   ]
  },
  {
   "cell_type": "code",
   "execution_count": 17,
   "metadata": {},
   "outputs": [],
   "source": [
    "#trial = re.sub('\\[[^]]*\\]', ' ', trial) # remove punctuations\n",
    "#trial = re.sub('[^a-zA-Z]',' ',trial)  # replaces non-alphabets with spaces\n",
    "trial = trial.lower() # Converting from uppercase to lowercase\n"
   ]
  },
  {
   "cell_type": "code",
   "execution_count": 18,
   "metadata": {},
   "outputs": [
    {
     "name": "stdout",
     "output_type": "stream",
     "text": [
      "house intelligence committee chairman devin nunes is going to have a bad day. he s been under the assumption, like many of us, that the christopher steele-dossier was what prompted the russia investigation so he s been lashing out at the department of justice and the fbi in order to protect trump. as it happens, the dossier is not what started the investigation, according to documents obtained by the new york times.former trump campaign adviser george papadopoulos was drunk in a wine bar when he revealed knowledge of russian opposition research on hillary clinton.on top of that, papadopoulos wasn t just a covfefe boy for trump, as his administration has alleged. he had a much larger role, but none so damning as being a drunken fool in a wine bar. coffee boys  don t help to arrange a new york meeting between trump and president abdel fattah el-sisi of egypt two months before the election. it was known before that the former aide set up meetings with world leaders for trump, but team trump ran with him being merely a coffee boy.in may 2016, papadopoulos revealed to australian diplomat alexander downer that russian officials were shopping around possible dirt on then-democratic presidential nominee hillary clinton. exactly how much mr. papadopoulos said that night at the kensington wine rooms with the australian, alexander downer, is unclear,  the report states.  but two months later, when leaked democratic emails began appearing online, australian officials passed the information about mr. papadopoulos to their american counterparts, according to four current and former american and foreign officials with direct knowledge of the australians  role. papadopoulos pleaded guilty to lying to the f.b.i. and is now a cooperating witness with special counsel robert mueller s team.this isn t a presidency. it s a badly scripted reality tv show.photo by win mcnamee/getty images.\n"
     ]
    }
   ],
   "source": [
    "print(trial)"
   ]
  },
  {
   "cell_type": "markdown",
   "metadata": {},
   "source": [
    "Function necessary for cleaning our Data"
   ]
  },
  {
   "cell_type": "code",
   "execution_count": 19,
   "metadata": {},
   "outputs": [],
   "source": [
    "def remove_punctuation(text):  #Removing any kind of punctuation present in the data\n",
    "    return re.sub(r'[^\\w\\s]','', str(text))\n",
    "\n",
    "def remove_urls(text):  #Removing urls from the data\n",
    "    return re.sub(r\"http\\S+\", \" \", str(text))\n",
    "                  \n",
    "def remove_stopwords(text):  #Removing stopwords(eg. this, that, am, be etc)\n",
    "    stop = stopwords.words(\"english\")\n",
    "    final_text = []\n",
    "    for i in str(text).split():\n",
    "        if i.strip() not in stop:\n",
    "            final_text.append(i.strip())\n",
    "    return \" \".join(final_text)\n",
    "                  \n",
    "def tokenize(text):  \n",
    "    tokens = re.split('\\W+',text) #W+ means that either a word character (A-Z) or a dash(-) can go there.\n",
    "    return tokens\n",
    "\n",
    "def tokenize_words(text):  #Converting all the text to lower case\n",
    "    return word_tokenize(text.lower())\n",
    "\n",
    "                                  \n",
    "def stemming(text):  #Converting the words into their stem form\n",
    "    porter_stemmer = PorterStemmer()\n",
    "    return porter_stemmer.stem(str(text))\n",
    "                  \n",
    "def lemmatization(text):  #Applying Lemaatization i.e., converting words into their lemma\n",
    "    wordnet_lemmatizer = WordNetLemmatizer()\n",
    "    return wordnet_lemmatizer.lemmatize(str(text))"
   ]
  },
  {
   "cell_type": "code",
   "execution_count": 20,
   "metadata": {},
   "outputs": [],
   "source": [
    "def clean_text(text):\n",
    "    #text = remove_punctuation(text)\n",
    "    #text = remove_urls(text)\n",
    "    text = remove_stopwords(text)\n",
    "    text = tokenize_words(text)\n",
    "    text = stemming(text)\n",
    "    return lemmatization(text)"
   ]
  },
  {
   "cell_type": "code",
   "execution_count": 21,
   "metadata": {},
   "outputs": [],
   "source": [
    "True_data['text'] = True_data['text'].apply(lambda x: clean_text(x))"
   ]
  },
  {
   "cell_type": "code",
   "execution_count": 22,
   "metadata": {},
   "outputs": [],
   "source": [
    "Fake_data['text'] = Fake_data['text'].apply(lambda x: clean_text(x))"
   ]
  },
  {
   "cell_type": "code",
   "execution_count": 23,
   "metadata": {},
   "outputs": [
    {
     "data": {
      "text/plain": [
       "\"['donald', 'trump', 'wish', 'americans', 'happy', 'new', 'year', 'leave', 'that', '.', 'instead', ',', 'give', 'shout', 'enemies', ',', 'haters', 'dishonest', 'fake', 'news', 'media', '.', 'the', 'former', 'reality', 'show', 'star', 'one', 'job', 'it', '.', 'as', 'country', 'rapidly', 'grows', 'stronger', 'smarter', ',', 'i', 'want', 'wish', 'friends', ',', 'supporters', ',', 'enemies', ',', 'haters', ',', 'even', 'dishonest', 'fake', 'news', 'media', ',', 'happy', 'healthy', 'new', 'year', ',', 'president', 'angry', 'pants', 'tweeted', '.', '2018', 'great', 'year', 'america', '!', 'as', 'country', 'rapidly', 'grows', 'stronger', 'smarter', ',', 'i', 'want', 'wish', 'friends', ',', 'supporters', ',', 'enemies', ',', 'haters', ',', 'even', 'dishonest', 'fake', 'news', 'media', ',', 'happy', 'healthy', 'new', 'year', '.', '2018', 'great', 'year', 'america', '!', 'donald', 'j.', 'trump', '(', '@', 'realdonaldtrump', ')', 'december', '31', ',', '2017trump', 'tweet', 'went', 'welll', 'expect.what', 'kind', 'president', 'sends', 'new', 'year', 'greeting', 'like', 'despicable', ',', 'petty', ',', 'infantile', 'gibberish', '?', 'only', 'trump', '!', 'his', 'lack', 'decency', 'even', 'allow', 'rise', 'gutter', 'long', 'enough', 'wish', 'american', 'citizens', 'happy', 'new', 'year', '!', 'bishop', 'talbert', 'swan', '(', '@', 'talbertswan', ')', 'december', '31', ',', '2017no', 'one', 'likes', 'calvin', '(', '@', 'calvinstowell', ')', 'december', '31', ',', '2017your', 'impeachment', 'would', 'make', '2018', 'great', 'year', 'america', ',', 'i', 'also', 'accept', 'regaining', 'control', 'congress', '.', 'miranda', 'yaver', '(', '@', 'mirandayaver', ')', 'december', '31', ',', '2017do', 'hear', 'talk', '?', 'when', 'include', 'many', 'people', 'hate', 'wonder', '?', 'why', 'hate', 'me', '?', 'alan', 'sandoval', '(', '@', 'alansandoval13', ')', 'december', '31', ',', '2017who', 'uses', 'word', 'haters', 'new', 'years', 'wish', '?', '?', 'marlene', '(', '@', 'marlene399', ')', 'december', '31', ',', '2017you', 'say', 'happy', 'new', 'year', '?', 'koren', 'pollitt', '(', '@', 'korencarpenter', ')', 'december', '31', ',', '2017here', 'trump', 'new', 'year', 'eve', 'tweet', '2016.happy', 'new', 'year', 'all', ',', 'including', 'many', 'enemies', 'fought', 'lost', 'badly', 'know', 'do', '.', 'love', '!', 'donald', 'j.', 'trump', '(', '@', 'realdonaldtrump', ')', 'december', '31', ',', '2016this', 'nothing', 'new', 'trump', '.', 'he', 'years.trump', 'directed', 'messages', 'enemies', 'haters', 'new', 'year', 's', ',', 'easter', ',', 'thanksgiving', ',', 'anniversary', '9/11', '.', 'pic.twitter.com/4fpae2kypa', 'daniel', 'dale', '(', '@', 'ddale8', ')', 'december', '31', ',', '2017trump', 'holiday', 'tweets', 'clearly', 'presidential.how', 'long', 'work', 'hallmark', 'becoming', 'president', '?', 'steven', 'goodine', '(', '@', 'sgoodine', ')', 'december', '31', ',', '2017he', 'always', 'like', '.', '.', '.', 'difference', 'last', 'years', ',', 'filter', 'breaking', 'down', '.', 'roy', 'schulze', '(', '@', 'thbthttt', ')', 'december', '31', ',', '2017who', ',', 'apart', 'teenager', 'uses', 'term', 'haters', '?', 'wendy', '(', '@', 'wendywhistles', ')', 'december', '31', ',', '2017he', 'fucking', '5', 'year', 'old', 'who', 'knows', '(', '@', 'rainyday80', ')', 'december', '31', ',', '2017so', ',', 'people', 'voted', 'hole', 'thinking', 'would', 'change', 'got', 'power', ',', 'wrong', '!', '70-year-old', 'men', 'change', 'year', 'older.photo', 'andrew', 'burton/getty', 'images', '.']\""
      ]
     },
     "execution_count": 23,
     "metadata": {},
     "output_type": "execute_result"
    }
   ],
   "source": [
    "Fake_data['text'][0]"
   ]
  },
  {
   "cell_type": "markdown",
   "metadata": {},
   "source": [
    "Combining both fake and true news to form one Dataset"
   ]
  },
  {
   "cell_type": "code",
   "execution_count": 24,
   "metadata": {},
   "outputs": [],
   "source": [
    "News_data = pd.concat([True_data,Fake_data])"
   ]
  },
  {
   "cell_type": "code",
   "execution_count": null,
   "metadata": {},
   "outputs": [
    {
     "ename": "",
     "evalue": "",
     "output_type": "error",
     "traceback": [
      "\u001b[1;31mFailed to start the Kernel. \n",
      "Unable to start Kernel 'Python 3.10.4' due to connection timeout. \n",
      "View Jupyter <a href='command:jupyter.viewOutput'>log</a> for further details."
     ]
    }
   ],
   "source": [
    "News_data.shape"
   ]
  },
  {
   "cell_type": "code",
   "execution_count": 26,
   "metadata": {},
   "outputs": [
    {
     "data": {
      "text/html": [
       "<div>\n",
       "<style scoped>\n",
       "    .dataframe tbody tr th:only-of-type {\n",
       "        vertical-align: middle;\n",
       "    }\n",
       "\n",
       "    .dataframe tbody tr th {\n",
       "        vertical-align: top;\n",
       "    }\n",
       "\n",
       "    .dataframe thead th {\n",
       "        text-align: right;\n",
       "    }\n",
       "</style>\n",
       "<table border=\"1\" class=\"dataframe\">\n",
       "  <thead>\n",
       "    <tr style=\"text-align: right;\">\n",
       "      <th></th>\n",
       "      <th>text</th>\n",
       "      <th>fake</th>\n",
       "    </tr>\n",
       "  </thead>\n",
       "  <tbody>\n",
       "    <tr>\n",
       "      <th>23479</th>\n",
       "      <td>['21st', 'century', 'wire', 'says', 'al', 'jaz...</td>\n",
       "      <td>1</td>\n",
       "    </tr>\n",
       "    <tr>\n",
       "      <th>23480</th>\n",
       "      <td>['21st', 'century', 'wire', 'says', 'as', '21w...</td>\n",
       "      <td>1</td>\n",
       "    </tr>\n",
       "  </tbody>\n",
       "</table>\n",
       "</div>"
      ],
      "text/plain": [
       "                                                    text  fake\n",
       "23479  ['21st', 'century', 'wire', 'says', 'al', 'jaz...     1\n",
       "23480  ['21st', 'century', 'wire', 'says', 'as', '21w...     1"
      ]
     },
     "execution_count": 26,
     "metadata": {},
     "output_type": "execute_result"
    }
   ],
   "source": [
    "News_data.tail(2)"
   ]
  },
  {
   "cell_type": "markdown",
   "metadata": {},
   "source": [
    "Shuffling our dataset"
   ]
  },
  {
   "cell_type": "code",
   "execution_count": 27,
   "metadata": {},
   "outputs": [],
   "source": [
    "News_data = shuffle(News_data,random_state=5)"
   ]
  },
  {
   "cell_type": "code",
   "execution_count": 28,
   "metadata": {},
   "outputs": [
    {
     "data": {
      "text/html": [
       "<div>\n",
       "<style scoped>\n",
       "    .dataframe tbody tr th:only-of-type {\n",
       "        vertical-align: middle;\n",
       "    }\n",
       "\n",
       "    .dataframe tbody tr th {\n",
       "        vertical-align: top;\n",
       "    }\n",
       "\n",
       "    .dataframe thead th {\n",
       "        text-align: right;\n",
       "    }\n",
       "</style>\n",
       "<table border=\"1\" class=\"dataframe\">\n",
       "  <thead>\n",
       "    <tr style=\"text-align: right;\">\n",
       "      <th></th>\n",
       "      <th>text</th>\n",
       "      <th>fake</th>\n",
       "    </tr>\n",
       "  </thead>\n",
       "  <tbody>\n",
       "    <tr>\n",
       "      <th>10128</th>\n",
       "      <td>['washington', '(', 'reuters', ')', '-', 'the'...</td>\n",
       "      <td>0</td>\n",
       "    </tr>\n",
       "    <tr>\n",
       "      <th>21748</th>\n",
       "      <td>['it', 'accident', '.', 'it', 'good', 'king', ...</td>\n",
       "      <td>1</td>\n",
       "    </tr>\n",
       "    <tr>\n",
       "      <th>14627</th>\n",
       "      <td>['(', 'this', 'november', '15', 'story', 'corr...</td>\n",
       "      <td>0</td>\n",
       "    </tr>\n",
       "    <tr>\n",
       "      <th>17654</th>\n",
       "      <td>['berlin', '(', 'reuters', ')', '-', 'germany'...</td>\n",
       "      <td>0</td>\n",
       "    </tr>\n",
       "    <tr>\n",
       "      <th>6995</th>\n",
       "      <td>['ted', 'cruz', 'dangerous', 'extremist', 'reg...</td>\n",
       "      <td>1</td>\n",
       "    </tr>\n",
       "    <tr>\n",
       "      <th>2653</th>\n",
       "      <td>['in', 'recent', 'interview', 'fox', 'news', '...</td>\n",
       "      <td>1</td>\n",
       "    </tr>\n",
       "    <tr>\n",
       "      <th>2130</th>\n",
       "      <td>['washington', '(', 'reuters', ')', '-', 'u.s....</td>\n",
       "      <td>0</td>\n",
       "    </tr>\n",
       "    <tr>\n",
       "      <th>15083</th>\n",
       "      <td>['paris', '(', 'reuters', ')', '-', 'eight', '...</td>\n",
       "      <td>0</td>\n",
       "    </tr>\n",
       "    <tr>\n",
       "      <th>17176</th>\n",
       "      <td>['if', 'president', ',', 'arms', 'bear', 'u.s....</td>\n",
       "      <td>1</td>\n",
       "    </tr>\n",
       "  </tbody>\n",
       "</table>\n",
       "</div>"
      ],
      "text/plain": [
       "                                                    text  fake\n",
       "10128  ['washington', '(', 'reuters', ')', '-', 'the'...     0\n",
       "21748  ['it', 'accident', '.', 'it', 'good', 'king', ...     1\n",
       "14627  ['(', 'this', 'november', '15', 'story', 'corr...     0\n",
       "17654  ['berlin', '(', 'reuters', ')', '-', 'germany'...     0\n",
       "6995   ['ted', 'cruz', 'dangerous', 'extremist', 'reg...     1\n",
       "2653   ['in', 'recent', 'interview', 'fox', 'news', '...     1\n",
       "2130   ['washington', '(', 'reuters', ')', '-', 'u.s....     0\n",
       "15083  ['paris', '(', 'reuters', ')', '-', 'eight', '...     0\n",
       "17176  ['if', 'president', ',', 'arms', 'bear', 'u.s....     1"
      ]
     },
     "execution_count": 28,
     "metadata": {},
     "output_type": "execute_result"
    }
   ],
   "source": [
    "News_data[:9]"
   ]
  },
  {
   "cell_type": "code",
   "execution_count": 29,
   "metadata": {},
   "outputs": [
    {
     "data": {
      "text/html": [
       "<div>\n",
       "<style scoped>\n",
       "    .dataframe tbody tr th:only-of-type {\n",
       "        vertical-align: middle;\n",
       "    }\n",
       "\n",
       "    .dataframe tbody tr th {\n",
       "        vertical-align: top;\n",
       "    }\n",
       "\n",
       "    .dataframe thead th {\n",
       "        text-align: right;\n",
       "    }\n",
       "</style>\n",
       "<table border=\"1\" class=\"dataframe\">\n",
       "  <thead>\n",
       "    <tr style=\"text-align: right;\">\n",
       "      <th></th>\n",
       "      <th>text</th>\n",
       "      <th>fake</th>\n",
       "    </tr>\n",
       "  </thead>\n",
       "  <tbody>\n",
       "    <tr>\n",
       "      <th>18638</th>\n",
       "      <td>['riyadh', '(', 'reuters', ')', '-', 'saudi', ...</td>\n",
       "      <td>0</td>\n",
       "    </tr>\n",
       "    <tr>\n",
       "      <th>14266</th>\n",
       "      <td>['president', 'obama', ',', 'candidate', 'urge...</td>\n",
       "      <td>1</td>\n",
       "    </tr>\n",
       "  </tbody>\n",
       "</table>\n",
       "</div>"
      ],
      "text/plain": [
       "                                                    text  fake\n",
       "18638  ['riyadh', '(', 'reuters', ')', '-', 'saudi', ...     0\n",
       "14266  ['president', 'obama', ',', 'candidate', 'urge...     1"
      ]
     },
     "execution_count": 29,
     "metadata": {},
     "output_type": "execute_result"
    }
   ],
   "source": [
    "News_data.tail(2)"
   ]
  },
  {
   "cell_type": "markdown",
   "metadata": {},
   "source": [
    "Data Clean-up...Completed"
   ]
  },
  {
   "cell_type": "markdown",
   "metadata": {},
   "source": [
    "Building RNN Model"
   ]
  },
  {
   "cell_type": "code",
   "execution_count": 30,
   "metadata": {},
   "outputs": [],
   "source": [
    "import tensorflow as tf\n",
    "from tensorflow.keras.preprocessing.text import Tokenizer\n",
    "from tensorflow.keras.preprocessing.sequence import pad_sequences"
   ]
  },
  {
   "cell_type": "markdown",
   "metadata": {},
   "source": [
    "RNN Model"
   ]
  },
  {
   "cell_type": "code",
   "execution_count": 31,
   "metadata": {},
   "outputs": [],
   "source": [
    "x_train,x_test,y_train,y_test =  train_test_split(News_data['text'],News_data['fake'],test_size=0.3,random_state=8)"
   ]
  },
  {
   "cell_type": "code",
   "execution_count": 32,
   "metadata": {},
   "outputs": [
    {
     "data": {
      "text/plain": [
       "(31428,)"
      ]
     },
     "execution_count": 32,
     "metadata": {},
     "output_type": "execute_result"
    }
   ],
   "source": [
    "x_train.shape"
   ]
  },
  {
   "cell_type": "code",
   "execution_count": 33,
   "metadata": {},
   "outputs": [],
   "source": [
    "#Tokenize the words into vectors because we can only give numerical data as input to the model\n",
    "\n",
    "max_vocab = 25000\n",
    "tokenizer = Tokenizer(num_words = max_vocab)\n",
    "tokenizer.fit_on_texts(x_train)\n",
    "\n",
    "x_train = tokenizer.texts_to_sequences(x_train)\n",
    "x_test = tokenizer.texts_to_sequences(x_test)\n",
    "\n",
    "#Padding is applied so that we get the same length of input for each article\n",
    "\n",
    "x_train = pad_sequences(x_train, padding = \"post\", maxlen = 256)\n",
    "x_test = pad_sequences(x_test, padding = \"post\", maxlen = 256)"
   ]
  },
  {
   "cell_type": "code",
   "execution_count": 35,
   "metadata": {},
   "outputs": [
    {
     "data": {
      "text/plain": [
       "(31428, 256)"
      ]
     },
     "execution_count": 35,
     "metadata": {},
     "output_type": "execute_result"
    }
   ],
   "source": [
    "x_train.shape"
   ]
  },
  {
   "cell_type": "code",
   "execution_count": null,
   "metadata": {},
   "outputs": [],
   "source": [
    "\"\"\"embedding_matrix = num.zeros((max_vocab, 256))\n",
    "embedding_layer = tf.keras.layers.Embedding(max_vocab, 256, weights=[embedding_matrix], input_length=25)\"\"\""
   ]
  },
  {
   "cell_type": "code",
   "execution_count": null,
   "metadata": {},
   "outputs": [],
   "source": [
    "\"\"\"model = tf.keras.Sequential()\n",
    "model.add(embedding_layer)\n",
    "model.add(tf.keras.layers.Dropout(0.5))\n",
    "model.add(tf.keras.layers.LSTM(100, dropout = 0.2, recurrent_dropout = 0.2))\n",
    "model.add(tf.keras.layers.Dropout(0.45))\n",
    "model.add(tf.keras.layers.Dense(2, activation='softmax'))\n",
    "\n",
    "model.summary()\"\"\""
   ]
  },
  {
   "cell_type": "code",
   "execution_count": 36,
   "metadata": {},
   "outputs": [],
   "source": [
    "embedding_vector_features = 50\n",
    "model=tf.keras.Sequential()\n",
    "model.add(tf.keras.layers.Embedding(max_vocab, embedding_vector_features, input_length=256))\n",
    "model.add(tf.keras.layers.Dropout(0.4))\n",
    "model.add(tf.keras.layers.LSTM(200, return_sequences=True))\n",
    "model.add(tf.keras.layers.LSTM(100, dropout = 0.2, recurrent_dropout = 0.2))\n",
    "model.add(tf.keras.layers.Dropout(0.3))\n",
    "model.add(tf.keras.layers.Dense(1, activation='sigmoid'))\n",
    "model.compile(loss='binary_crossentropy', optimizer='adam', metrics=['accuracy'])"
   ]
  },
  {
   "cell_type": "code",
   "execution_count": 38,
   "metadata": {},
   "outputs": [
    {
     "name": "stdout",
     "output_type": "stream",
     "text": [
      "Model: \"sequential\"\n",
      "_________________________________________________________________\n",
      " Layer (type)                Output Shape              Param #   \n",
      "=================================================================\n",
      " embedding (Embedding)       (None, 256, 50)           1250000   \n",
      "                                                                 \n",
      " dropout (Dropout)           (None, 256, 50)           0         \n",
      "                                                                 \n",
      " lstm (LSTM)                 (None, 256, 200)          200800    \n",
      "                                                                 \n",
      " lstm_1 (LSTM)               (None, 100)               120400    \n",
      "                                                                 \n",
      " dropout_1 (Dropout)         (None, 100)               0         \n",
      "                                                                 \n",
      " dense (Dense)               (None, 1)                 101       \n",
      "                                                                 \n",
      "=================================================================\n",
      "Total params: 1,571,301\n",
      "Trainable params: 1,571,301\n",
      "Non-trainable params: 0\n",
      "_________________________________________________________________\n"
     ]
    }
   ],
   "source": [
    "model.summary()"
   ]
  },
  {
   "cell_type": "code",
   "execution_count": 39,
   "metadata": {},
   "outputs": [
    {
     "name": "stdout",
     "output_type": "stream",
     "text": [
      "Epoch 1/6\n",
      "708/708 [==============================] - 1217s 2s/step - loss: 0.5295 - accuracy: 0.7084 - val_loss: 0.3751 - val_accuracy: 0.7636\n",
      "Epoch 2/6\n",
      "708/708 [==============================] - 25783s 36s/step - loss: 0.2102 - accuracy: 0.9240 - val_loss: 0.1097 - val_accuracy: 0.9675\n",
      "Epoch 3/6\n",
      "708/708 [==============================] - 1315s 2s/step - loss: 0.1826 - accuracy: 0.9378 - val_loss: 0.2181 - val_accuracy: 0.9201\n",
      "Epoch 4/6\n",
      "708/708 [==============================] - 1316s 2s/step - loss: 0.2143 - accuracy: 0.9122 - val_loss: 0.3257 - val_accuracy: 0.8645\n",
      "Epoch 5/6\n",
      "708/708 [==============================] - 1185s 2s/step - loss: 0.1782 - accuracy: 0.9446 - val_loss: 0.1363 - val_accuracy: 0.9660\n",
      "Epoch 6/6\n",
      "708/708 [==============================] - 1018s 1s/step - loss: 0.0964 - accuracy: 0.9718 - val_loss: 0.0676 - val_accuracy: 0.9815\n"
     ]
    },
    {
     "data": {
      "text/plain": [
       "<keras.callbacks.History at 0x2390eb57f10>"
      ]
     },
     "execution_count": 39,
     "metadata": {},
     "output_type": "execute_result"
    }
   ],
   "source": [
    "model.fit(x_train, y_train, epochs = 6, validation_split = 0.10, batch_size = 40, shuffle = True, verbose=1)"
   ]
  },
  {
   "cell_type": "code",
   "execution_count": 41,
   "metadata": {},
   "outputs": [
    {
     "name": "stdout",
     "output_type": "stream",
     "text": [
      "421/421 [==============================] - 104s 246ms/step - loss: 0.0719 - accuracy: 0.9795\n"
     ]
    },
    {
     "data": {
      "text/plain": [
       "[0.07185757905244827, 0.9795100092887878]"
      ]
     },
     "execution_count": 41,
     "metadata": {},
     "output_type": "execute_result"
    }
   ],
   "source": [
    "model.evaluate(x_test,y_test)"
   ]
  },
  {
   "cell_type": "markdown",
   "metadata": {},
   "source": [
    "Model Accuracy after testing on unseen data is 97.95%"
   ]
  },
  {
   "cell_type": "code",
   "execution_count": 40,
   "metadata": {},
   "outputs": [],
   "source": [
    "predict = model.predict(x_test)"
   ]
  },
  {
   "cell_type": "markdown",
   "metadata": {},
   "source": [
    "With our Model Prediction, 1 == Fake news and 0 == Factual news. eg: if the model predicts 80% it definately means Fake news and if the model predicts 20% its definately Factual news."
   ]
  },
  {
   "cell_type": "code",
   "execution_count": 47,
   "metadata": {},
   "outputs": [
    {
     "data": {
      "text/plain": [
       "array([[0.97274655],\n",
       "       [0.00613561]], dtype=float32)"
      ]
     },
     "execution_count": 47,
     "metadata": {},
     "output_type": "execute_result"
    }
   ],
   "source": [
    "predict[:2]"
   ]
  },
  {
   "cell_type": "code",
   "execution_count": 46,
   "metadata": {},
   "outputs": [
    {
     "data": {
      "text/plain": [
       "20739    1\n",
       "20005    0\n",
       "Name: fake, dtype: int64"
      ]
     },
     "execution_count": 46,
     "metadata": {},
     "output_type": "execute_result"
    }
   ],
   "source": [
    "y_train[0:2]"
   ]
  },
  {
   "cell_type": "code",
   "execution_count": 67,
   "metadata": {},
   "outputs": [],
   "source": [
    "def news_preperation(news:str):\n",
    "    news = clean_text(news)\n",
    "    tokenizer.fit_on_texts(news)\n",
    "    news = tokenizer.texts_to_sequences(news)\n",
    "    news = pad_sequences(news, padding= \"post\", maxlen = 256)\n",
    "    results = model.predict(news)\n",
    "    result = results[0]\n",
    "    return \"{:.2f}\".format(result[0]*100)"
   ]
  },
  {
   "cell_type": "code",
   "execution_count": 78,
   "metadata": {},
   "outputs": [
    {
     "name": "stdout",
     "output_type": "stream",
     "text": [
      "Fake news Probability: 98.93 True News Probability: 1.0699999999999932\n"
     ]
    }
   ],
   "source": [
    "res = news_preperation(\"There is a War in Ukraine\")\n",
    "res = float(res)\n",
    "false = res\n",
    "true = 100.00 - res\n",
    "print(\"Fake news Probability: \"+ str(false) + \" True News Probability: \"+ str(true))"
   ]
  },
  {
   "cell_type": "markdown",
   "metadata": {},
   "source": [
    "Saving the AI Model."
   ]
  },
  {
   "cell_type": "code",
   "execution_count": 57,
   "metadata": {},
   "outputs": [],
   "source": [
    "model.save(\"Model.h5\")"
   ]
  },
  {
   "cell_type": "code",
   "execution_count": 58,
   "metadata": {},
   "outputs": [],
   "source": [
    "Fmodel = tf.keras.models.load_model(\"Model.h5\")"
   ]
  },
  {
   "cell_type": "code",
   "execution_count": 60,
   "metadata": {},
   "outputs": [
    {
     "name": "stdout",
     "output_type": "stream",
     "text": [
      "421/421 [==============================] - 100s 235ms/step - loss: 0.0719 - accuracy: 0.9795\n"
     ]
    },
    {
     "data": {
      "text/plain": [
       "[0.07185757905244827, 0.9795100092887878]"
      ]
     },
     "execution_count": 60,
     "metadata": {},
     "output_type": "execute_result"
    }
   ],
   "source": [
    "Fmodel.evaluate(x_test,y_test)"
   ]
  }
 ],
 "metadata": {
  "interpreter": {
   "hash": "dfd77b68dc4ed90f94666cbf3510ba4a67ed5186df015e0ded04a2a4e378969c"
  },
  "kernelspec": {
   "display_name": "Python 3.10.2 64-bit (windows store)",
   "language": "python",
   "name": "python3"
  },
  "language_info": {
   "codemirror_mode": {
    "name": "ipython",
    "version": 3
   },
   "file_extension": ".py",
   "mimetype": "text/x-python",
   "name": "python",
   "nbconvert_exporter": "python",
   "pygments_lexer": "ipython3",
   "version": "3.10.4"
  },
  "orig_nbformat": 4
 },
 "nbformat": 4,
 "nbformat_minor": 2
}
